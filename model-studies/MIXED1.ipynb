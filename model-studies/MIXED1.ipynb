{
 "cells": [
  {
   "cell_type": "code",
   "execution_count": 11,
   "id": "65b2b089",
   "metadata": {},
   "outputs": [
    {
     "name": "stderr",
     "output_type": "stream",
     "text": [
      "\n",
      "Interpolating Trend: 100%|█████████████| 7296/7296 [00:00<00:00, 2142672.03it/s]\u001b[A\n"
     ]
    },
    {
     "data": {
      "application/vnd.jupyter.widget-view+json": {
       "model_id": "df1e5147309f4b97b29251978e8e35ac",
       "version_major": 2,
       "version_minor": 0
      },
      "text/plain": [
       "  0%|          | 0/7296 [00:00<?, ?it/s]"
      ]
     },
     "metadata": {},
     "output_type": "display_data"
    },
    {
     "data": {
      "application/vnd.jupyter.widget-view+json": {
       "model_id": "ca8938db9b814f3ab847cca4f5e299ba",
       "version_major": 2,
       "version_minor": 0
      },
      "text/plain": [
       "  0%|          | 0/7296 [00:00<?, ?it/s]"
      ]
     },
     "metadata": {},
     "output_type": "display_data"
    },
    {
     "name": "stderr",
     "output_type": "stream",
     "text": [
      "/Users/Ubaid/Library/CloudStorage/OneDrive-UniversidadedoAlgarve/analysis-dir/ts-data/env/lib/python3.11/site-packages/pyentrp/entropy.py:167: RuntimeWarning: invalid value encountered in divide\n",
      "  sampen = -np.log(Ntemp[1:] / Ntemp[:-1])\n",
      "/Users/Ubaid/Library/CloudStorage/OneDrive-UniversidadedoAlgarve/analysis-dir/ts-data/env/lib/python3.11/site-packages/pyentrp/entropy.py:167: RuntimeWarning: divide by zero encountered in log\n",
      "  sampen = -np.log(Ntemp[1:] / Ntemp[:-1])\n"
     ]
    }
   ],
   "source": [
    "import numpy as np\n",
    "import pandas as pd\n",
    "from scipy.interpolate import lagrange\n",
    "from pyentrp import entropy\n",
    "from statsmodels.tsa.seasonal import seasonal_decompose\n",
    "from tqdm import tqdm\n",
    "\n",
    "# Read the data from CSV file\n",
    "newData = pd.read_csv(\"Office_Garman.csv\", index_col=\"timestamp\", parse_dates=True)\n",
    "# Remove duplicate entries\n",
    "newData = newData.drop_duplicates()\n",
    "# Set the frequency to hourly\n",
    "newData = newData.asfreq('H')\n",
    "# Fill missing values using forward fill method\n",
    "newData = newData.fillna(method='ffill')\n",
    "\n",
    "# Define the split date\n",
    "split_date = '2015-09-30'\n",
    "\n",
    "# Split the data into training and testing sets\n",
    "train = newData.loc[:split_date]\n",
    "test = newData.loc[split_date:]\n",
    "\n",
    "# Perform seasonal decomposition using EMD\n",
    "decomposition = seasonal_decompose(train['Office_Garman'], model='additive')\n",
    "\n",
    "# Access the components\n",
    "trend = decomposition.trend\n",
    "seasonal = decomposition.seasonal\n",
    "residual = decomposition.resid\n",
    "\n",
    "# Lagrange interpolation to fill missing values\n",
    "def lagrange_interpolation(data):\n",
    "    if np.isscalar(data):\n",
    "        return data\n",
    "    missing_indexes = np.isnan(data)\n",
    "    missing_values = np.where(missing_indexes)[0]\n",
    "    known_values = np.where(~missing_indexes)[0]\n",
    "    interpolated_values = lagrange(known_values, data[~missing_indexes])(missing_values)\n",
    "    data[missing_indexes] = interpolated_values\n",
    "    return data\n",
    "\n",
    "# Apply Lagrange interpolation to trend with a progress bar\n",
    "interpolated_trend = []\n",
    "for value in tqdm(trend, desc='Interpolating Trend'):\n",
    "    interpolated_trend.append(lagrange_interpolation(value))\n",
    "interpolated_trend = pd.Series(interpolated_trend, index=trend.index)\n",
    "\n",
    "# Apply Lagrange interpolation to seasonal and residual components\n",
    "interpolated_seasonal = seasonal.progress_apply(lagrange_interpolation)\n",
    "interpolated_residual = residual.progress_apply(lagrange_interpolation)\n",
    "\n",
    "# Calculate sample entropy using pyentrp's sample_entropy function\n",
    "trend_entropy = entropy.sample_entropy(interpolated_trend, sample_length=2)\n",
    "seasonal_entropy = entropy.sample_entropy(interpolated_seasonal, sample_length=2)\n",
    "residual_entropy = entropy.sample_entropy(interpolated_residual, sample_length=2)\n",
    "\n",
    "# Split the components into high-frequency and low-frequency components\n",
    "high_freq_components = interpolated_trend + interpolated_residual\n",
    "low_freq_components = interpolated_seasonal\n",
    "\n",
    "# Calculate sum of equal weights for each timestamp to obtain actual energy consumption\n",
    "actual_energy_consumption = train['Office_Garman']\n",
    "\n",
    "# Print or use the high-frequency and low-frequency components, entropy values, and actual energy consumption as needed\n"
   ]
  },
  {
   "cell_type": "code",
   "execution_count": null,
   "id": "53962f3f",
   "metadata": {},
   "outputs": [],
   "source": []
  }
 ],
 "metadata": {
  "kernelspec": {
   "display_name": "Python 3 (ipykernel)",
   "language": "python",
   "name": "python3"
  },
  "language_info": {
   "codemirror_mode": {
    "name": "ipython",
    "version": 3
   },
   "file_extension": ".py",
   "mimetype": "text/x-python",
   "name": "python",
   "nbconvert_exporter": "python",
   "pygments_lexer": "ipython3",
   "version": "3.11.0"
  }
 },
 "nbformat": 4,
 "nbformat_minor": 5
}
