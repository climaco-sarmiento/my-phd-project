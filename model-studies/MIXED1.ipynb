{
 "cells": [
  {
   "cell_type": "code",
   "execution_count": 1,
   "id": "65b2b089",
   "metadata": {},
   "outputs": [
    {
     "ename": "ModuleNotFoundError",
     "evalue": "No module named 'PyEMD'",
     "output_type": "error",
     "traceback": [
      "\u001b[0;31m---------------------------------------------------------------------------\u001b[0m",
      "\u001b[0;31mModuleNotFoundError\u001b[0m                       Traceback (most recent call last)",
      "Cell \u001b[0;32mIn[1], line 7\u001b[0m\n\u001b[1;32m      5\u001b[0m \u001b[38;5;28;01mfrom\u001b[39;00m \u001b[38;5;21;01mscipy\u001b[39;00m\u001b[38;5;21;01m.\u001b[39;00m\u001b[38;5;21;01minterpolate\u001b[39;00m \u001b[38;5;28;01mimport\u001b[39;00m lagrange\n\u001b[1;32m      6\u001b[0m \u001b[38;5;28;01mfrom\u001b[39;00m \u001b[38;5;21;01mpyentrp\u001b[39;00m \u001b[38;5;28;01mimport\u001b[39;00m entropy\n\u001b[0;32m----> 7\u001b[0m \u001b[38;5;28;01mfrom\u001b[39;00m \u001b[38;5;21;01mPyEMD\u001b[39;00m \u001b[38;5;28;01mimport\u001b[39;00m EMD\n\u001b[1;32m      9\u001b[0m \u001b[38;5;66;03m# Read the data from CSV file\u001b[39;00m\n\u001b[1;32m     10\u001b[0m newData \u001b[38;5;241m=\u001b[39m pd\u001b[38;5;241m.\u001b[39mread_csv(\u001b[38;5;124m\"\u001b[39m\u001b[38;5;124mOffice_Garman.csv\u001b[39m\u001b[38;5;124m\"\u001b[39m, index_col\u001b[38;5;241m=\u001b[39m\u001b[38;5;124m\"\u001b[39m\u001b[38;5;124mtimestamp\u001b[39m\u001b[38;5;124m\"\u001b[39m, parse_dates\u001b[38;5;241m=\u001b[39m\u001b[38;5;28;01mTrue\u001b[39;00m)\n",
      "\u001b[0;31mModuleNotFoundError\u001b[0m: No module named 'PyEMD'"
     ]
    }
   ],
   "source": [
    "import numpy as np\n",
    "import pandas as pd\n",
    "from pyhht import EMD\n",
    "from sklearn.cluster import DBSCAN\n",
    "from scipy.interpolate import lagrange\n",
    "from pyentrp import entropy\n",
    "from PyEMD import EMD\n",
    "\n",
    "# Read the data from CSV file\n",
    "newData = pd.read_csv(\"Office_Garman.csv\", index_col=\"timestamp\", parse_dates=True)\n",
    "# Remove duplicate entries\n",
    "newData = newData.drop_duplicates()\n",
    "# Set the frequency to hourly\n",
    "newData = newData.asfreq('H')\n",
    "# Fill missing values using forward fill method\n",
    "newData = newData.fillna(method='ffill')\n",
    "\n",
    "# Define the split date\n",
    "split_date = '2015-09-30'\n",
    "\n",
    "# Split the data into training and testing sets\n",
    "train = newData.loc[:split_date]\n",
    "test = newData.loc[split_date:]\n",
    "\n",
    "# Perform CEEMDAN decomposition\n",
    "emd = EMD()\n",
    "components = emd.emd(newData['Office_Garman'].values)\n",
    "\n",
    "# Apply DBSCAN detection\n",
    "dbscan = DBSCAN(eps=0.5, min_samples=5)\n",
    "labels = dbscan.fit_predict(components.T)\n",
    "\n",
    "# Lagrange interpolation to fill missing values\n",
    "def lagrange_interpolation(data):\n",
    "    missing_indexes = np.isnan(data)\n",
    "    missing_values = np.where(missing_indexes)[0]\n",
    "    known_values = np.where(~missing_indexes)[0]\n",
    "    interpolated_values = lagrange(known_values, data[~missing_indexes])(missing_values)\n",
    "    data[missing_indexes] = interpolated_values\n",
    "    return data\n",
    "\n",
    "interpolated_components = np.apply_along_axis(lagrange_interpolation, axis=1, arr=components)\n",
    "\n",
    "# Calculate entropy values using FuzzyEn algorithm\n",
    "entropy_values = [entropy.fuzzy_entropy(component, 2, 1) for component in interpolated_components]\n",
    "\n",
    "# Split components into high-frequency and low-frequency components\n",
    "high_freq_components = interpolated_components[np.where(labels == -1)]\n",
    "low_freq_components = interpolated_components[np.where(labels != -1)]\n",
    "\n",
    "# Calculate sum of equal weights for each timestamp to obtain actual energy consumption\n",
    "actual_energy_consumption = np.sum(components, axis=0)\n",
    "\n",
    "# Print or use the high-frequency and low-frequency components, entropy values, and actual energy consumption as needed\n"
   ]
  },
  {
   "cell_type": "code",
   "execution_count": 2,
   "id": "bca38ff9",
   "metadata": {},
   "outputs": [
    {
     "name": "stdout",
     "output_type": "stream",
     "text": [
      "pyemd                     1.0.0                    pypi_0    pypi\n",
      "\n",
      "Note: you may need to restart the kernel to use updated packages.\n"
     ]
    }
   ],
   "source": [
    "conda list | grep pyemd\n"
   ]
  },
  {
   "cell_type": "code",
   "execution_count": null,
   "id": "53962f3f",
   "metadata": {},
   "outputs": [],
   "source": []
  }
 ],
 "metadata": {
  "kernelspec": {
   "display_name": "Python 3 (ipykernel)",
   "language": "python",
   "name": "python3"
  },
  "language_info": {
   "codemirror_mode": {
    "name": "ipython",
    "version": 3
   },
   "file_extension": ".py",
   "mimetype": "text/x-python",
   "name": "python",
   "nbconvert_exporter": "python",
   "pygments_lexer": "ipython3",
   "version": "3.11.0"
  }
 },
 "nbformat": 4,
 "nbformat_minor": 5
}
