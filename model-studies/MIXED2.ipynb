{
 "cells": [
  {
   "cell_type": "code",
   "execution_count": 2,
   "id": "927b8232",
   "metadata": {
    "scrolled": true
   },
   "outputs": [
    {
     "ename": "ModuleNotFoundError",
     "evalue": "No module named 'PyEMD'",
     "output_type": "error",
     "traceback": [
      "\u001b[0;31m---------------------------------------------------------------------------\u001b[0m",
      "\u001b[0;31mModuleNotFoundError\u001b[0m                       Traceback (most recent call last)",
      "Cell \u001b[0;32mIn[2], line 7\u001b[0m\n\u001b[1;32m      5\u001b[0m \u001b[38;5;28;01mfrom\u001b[39;00m \u001b[38;5;21;01msklearn\u001b[39;00m\u001b[38;5;21;01m.\u001b[39;00m\u001b[38;5;21;01mcluster\u001b[39;00m \u001b[38;5;28;01mimport\u001b[39;00m DBSCAN\n\u001b[1;32m      6\u001b[0m \u001b[38;5;28;01mfrom\u001b[39;00m \u001b[38;5;21;01mscipy\u001b[39;00m\u001b[38;5;21;01m.\u001b[39;00m\u001b[38;5;21;01minterpolate\u001b[39;00m \u001b[38;5;28;01mimport\u001b[39;00m lagrange\n\u001b[0;32m----> 7\u001b[0m \u001b[38;5;28;01mfrom\u001b[39;00m \u001b[38;5;21;01mPyEMD\u001b[39;00m \u001b[38;5;28;01mimport\u001b[39;00m EMD\n\u001b[1;32m      8\u001b[0m \u001b[38;5;28;01mfrom\u001b[39;00m \u001b[38;5;21;01mentropy\u001b[39;00m \u001b[38;5;28;01mimport\u001b[39;00m fuzzy_entropy\n\u001b[1;32m     10\u001b[0m \u001b[38;5;66;03m# Set Plotting Styles\u001b[39;00m\n",
      "\u001b[0;31mModuleNotFoundError\u001b[0m: No module named 'PyEMD'"
     ]
    }
   ],
   "source": [
    "import numpy as np\n",
    "import pandas as pd\n",
    "import matplotlib.pyplot as plt\n",
    "import seaborn as sns\n",
    "from sklearn.cluster import DBSCAN\n",
    "from scipy.interpolate import lagrange\n",
    "from PyEMD import EMD\n",
    "from entropy import fuzzy_entropy\n",
    "\n",
    "# Set Plotting Styles\n",
    "plt.style.use('ggplot')\n",
    "\n",
    "# Read the data from CSV file\n",
    "newData = pd.read_csv(\"Office_Garman.csv\", index_col=\"timestamp\", parse_dates=True)\n",
    "# Remove duplicate entries\n",
    "newData = newData.drop_duplicates()\n",
    "# Set the frequency to hourly\n",
    "newData = newData.asfreq('H')\n",
    "# Fill missing values using forward fill method\n",
    "newData = newData.fillna(method='ffill')\n",
    "\n",
    "# Visualizing Energy Consumption Data\n",
    "plt.plot(newData.index, newData['Office_Garman'])\n",
    "plt.title('Energy Consumption')\n",
    "plt.ylabel('Energy Consumption (MW)')\n",
    "plt.show()\n",
    "\n",
    "# Define the split date\n",
    "split_date = '2015-09-30'\n",
    "\n",
    "# Split the data into training and testing sets\n",
    "train = newData.loc[:split_date]\n",
    "test = newData.loc[split_date:]\n",
    "\n",
    "# DBSCAN detection\n",
    "dbscan = DBSCAN(eps=0.5, min_samples=5)\n",
    "dbscan.fit(train['Office_Garman'].values.reshape(-1, 1))\n",
    "labels = dbscan.labels_\n",
    "\n",
    "# Lagrange interpolation\n",
    "train_interpolated = train.copy()\n",
    "train_interpolated['Office_Garman'] = lagrange(train_interpolated['Office_Garman'], train_interpolated.index)\n",
    "\n",
    "# EMD decomposition\n",
    "emd = EMD()\n",
    "components = emd(train_interpolated['Office_Garman'].values)\n",
    "\n",
    "# FuzzyEn entropy calculation\n",
    "entropy_values = []\n",
    "for component in components:\n",
    "    entropy = fuzzy_entropy(component)\n",
    "    entropy_values.append(entropy)\n",
    "\n",
    "# Divide components into high-frequency and low-frequency\n",
    "high_frequency = components[0]  # Modify this based on the specific component\n",
    "low_frequency = components[1]  # Modify this based on the specific component\n",
    "\n",
    "# Calculate actual energy consumption value\n",
    "actual_energy_consumption = high_frequency + low_frequency\n",
    "\n",
    "# Progress bar\n",
    "def progress_bar(current, total):\n",
    "    percent = (current / total) * 100\n",
    "    print(f\"Progress: {current}/{total} ({percent:.2f}%)\")\n",
    "\n",
    "# Example usage of progress bar\n",
    "total_tasks = 10\n",
    "for i in range(total_tasks):\n",
    "    # Perform a task\n",
    "    progress_bar(i + 1, total_tasks)\n",
    "    # Do other computations\n",
    "\n",
    "# Update the code above with the specific modifications required for your dataset and algorithms.\n"
   ]
  },
  {
   "cell_type": "code",
   "execution_count": null,
   "id": "cd9e60ee",
   "metadata": {},
   "outputs": [],
   "source": []
  }
 ],
 "metadata": {
  "kernelspec": {
   "display_name": "Python 3 (ipykernel)",
   "language": "python",
   "name": "python3"
  },
  "language_info": {
   "codemirror_mode": {
    "name": "ipython",
    "version": 3
   },
   "file_extension": ".py",
   "mimetype": "text/x-python",
   "name": "python",
   "nbconvert_exporter": "python",
   "pygments_lexer": "ipython3",
   "version": "3.11.0"
  }
 },
 "nbformat": 4,
 "nbformat_minor": 5
}
