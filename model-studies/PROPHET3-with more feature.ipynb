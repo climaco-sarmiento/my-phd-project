{
 "cells": [
  {
   "cell_type": "code",
   "execution_count": 200,
   "id": "3869041c",
   "metadata": {},
   "outputs": [],
   "source": [
    "import pandas as pd\n",
    "import matplotlib.pyplot as plt\n",
    "from prophet import Prophet\n",
    "from sklearn.metrics import mean_absolute_error, mean_absolute_percentage_error, mean_squared_error\n",
    "import numpy as np"
   ]
  },
  {
   "cell_type": "code",
   "execution_count": 201,
   "id": "68380316",
   "metadata": {},
   "outputs": [],
   "source": [
    "# Import energy data\n",
    "newData = pd.read_csv(\"Office_Garman.csv\", index_col=\"timestamp\", parse_dates=True)\n",
    "newData = newData.drop_duplicates()\n",
    "newData = newData.asfreq('H')\n",
    "newData = newData.fillna(method='ffill')"
   ]
  },
  {
   "cell_type": "code",
   "execution_count": 202,
   "id": "df46b69f",
   "metadata": {},
   "outputs": [],
   "source": [
    "# Import holiday data\n",
    "holidaysdf = pd.read_csv(\"schedule9.csv\", header=None, names=[\"ds\", \"holiday\"])\n",
    "holidaysdf[\"ds\"] = pd.to_datetime(holidaysdf[\"ds\"])\n",
    "holidaysdf[\"holiday\"] = holidaysdf[\"holiday\"].astype(str)"
   ]
  },
  {
   "cell_type": "code",
   "execution_count": 203,
   "id": "86a79543",
   "metadata": {},
   "outputs": [],
   "source": [
    "# Import weather data\n",
    "weatherdf = pd.read_csv(\"weather5.csv\")\n",
    "weatherdf[\"timestamp\"] = pd.to_datetime(weatherdf[\"timestamp\"])\n",
    "weatherdf = weatherdf[[\"timestamp\", \"TemperatureC\", \"Conditions\"]]\n"
   ]
  },
  {
   "cell_type": "code",
   "execution_count": 204,
   "id": "bbf7ce30",
   "metadata": {},
   "outputs": [],
   "source": [
    "# Merge energy, holiday, and weather data\n",
    "merged_data = pd.merge(newData, weatherdf, left_index=True, right_on=\"timestamp\", how=\"left\")\n",
    "merged_data[\"is_holiday\"] = merged_data[\"timestamp\"].isin(holidaysdf[\"ds\"]).astype(int)\n",
    "merged_data[\"temperature\"] = merged_data[\"TemperatureC\"]\n",
    "merged_data[\"conditions\"] = merged_data[\"Conditions\"]"
   ]
  },
  {
   "cell_type": "code",
   "execution_count": 205,
   "id": "8c5bacfd",
   "metadata": {
    "scrolled": false
   },
   "outputs": [],
   "source": [
    "# Reset index of merged_data\n",
    "merged_data.reset_index(inplace=True)\n",
    "\n",
    "# Split data into train and test sets\n",
    "split_date = pd.to_datetime('2015-09-30')\n",
    "train = merged_data.loc[merged_data['timestamp'] <= split_date]\n",
    "test = merged_data.loc[merged_data['timestamp'] > split_date]\n"
   ]
  },
  {
   "cell_type": "code",
   "execution_count": 208,
   "id": "19e3f3f7",
   "metadata": {},
   "outputs": [
    {
     "ename": "ValueError",
     "evalue": "Found NaN in column 'temperature'",
     "output_type": "error",
     "traceback": [
      "\u001b[0;31m---------------------------------------------------------------------------\u001b[0m",
      "\u001b[0;31mValueError\u001b[0m                                Traceback (most recent call last)",
      "Cell \u001b[0;32mIn[208], line 19\u001b[0m\n\u001b[1;32m     16\u001b[0m train_renamed[\u001b[38;5;124m'\u001b[39m\u001b[38;5;124mtemperature\u001b[39m\u001b[38;5;124m'\u001b[39m]\u001b[38;5;241m.\u001b[39mfillna(method\u001b[38;5;241m=\u001b[39m\u001b[38;5;124m'\u001b[39m\u001b[38;5;124mffill\u001b[39m\u001b[38;5;124m'\u001b[39m, inplace\u001b[38;5;241m=\u001b[39m\u001b[38;5;28;01mTrue\u001b[39;00m)\n\u001b[1;32m     18\u001b[0m \u001b[38;5;66;03m# Fit the model\u001b[39;00m\n\u001b[0;32m---> 19\u001b[0m model\u001b[38;5;241m.\u001b[39mfit(train_renamed)\n",
      "File \u001b[0;32m~/Library/CloudStorage/OneDrive-UniversidadedoAlgarve/analysis-dir/ts-data/env/lib/python3.11/site-packages/prophet/forecaster.py:1126\u001b[0m, in \u001b[0;36mProphet.fit\u001b[0;34m(self, df, **kwargs)\u001b[0m\n\u001b[1;32m   1123\u001b[0m     \u001b[38;5;28;01mraise\u001b[39;00m \u001b[38;5;167;01mValueError\u001b[39;00m(\u001b[38;5;124m'\u001b[39m\u001b[38;5;124mDataframe has less than 2 non-NaN rows.\u001b[39m\u001b[38;5;124m'\u001b[39m)\n\u001b[1;32m   1124\u001b[0m \u001b[38;5;28mself\u001b[39m\u001b[38;5;241m.\u001b[39mhistory_dates \u001b[38;5;241m=\u001b[39m pd\u001b[38;5;241m.\u001b[39mto_datetime(pd\u001b[38;5;241m.\u001b[39mSeries(df[\u001b[38;5;124m'\u001b[39m\u001b[38;5;124mds\u001b[39m\u001b[38;5;124m'\u001b[39m]\u001b[38;5;241m.\u001b[39munique(), name\u001b[38;5;241m=\u001b[39m\u001b[38;5;124m'\u001b[39m\u001b[38;5;124mds\u001b[39m\u001b[38;5;124m'\u001b[39m))\u001b[38;5;241m.\u001b[39msort_values()\n\u001b[0;32m-> 1126\u001b[0m history \u001b[38;5;241m=\u001b[39m \u001b[38;5;28mself\u001b[39m\u001b[38;5;241m.\u001b[39msetup_dataframe(history, initialize_scales\u001b[38;5;241m=\u001b[39m\u001b[38;5;28;01mTrue\u001b[39;00m)\n\u001b[1;32m   1127\u001b[0m \u001b[38;5;28mself\u001b[39m\u001b[38;5;241m.\u001b[39mhistory \u001b[38;5;241m=\u001b[39m history\n\u001b[1;32m   1128\u001b[0m \u001b[38;5;28mself\u001b[39m\u001b[38;5;241m.\u001b[39mset_auto_seasonalities()\n",
      "File \u001b[0;32m~/Library/CloudStorage/OneDrive-UniversidadedoAlgarve/analysis-dir/ts-data/env/lib/python3.11/site-packages/prophet/forecaster.py:287\u001b[0m, in \u001b[0;36mProphet.setup_dataframe\u001b[0;34m(self, df, initialize_scales)\u001b[0m\n\u001b[1;32m    285\u001b[0m     df[name] \u001b[38;5;241m=\u001b[39m pd\u001b[38;5;241m.\u001b[39mto_numeric(df[name])\n\u001b[1;32m    286\u001b[0m     \u001b[38;5;28;01mif\u001b[39;00m df[name]\u001b[38;5;241m.\u001b[39misnull()\u001b[38;5;241m.\u001b[39many():\n\u001b[0;32m--> 287\u001b[0m         \u001b[38;5;28;01mraise\u001b[39;00m \u001b[38;5;167;01mValueError\u001b[39;00m(\n\u001b[1;32m    288\u001b[0m             \u001b[38;5;124m'\u001b[39m\u001b[38;5;124mFound NaN in column \u001b[39m\u001b[38;5;132;01m{name!r}\u001b[39;00m\u001b[38;5;124m'\u001b[39m\u001b[38;5;241m.\u001b[39mformat(name\u001b[38;5;241m=\u001b[39mname)\n\u001b[1;32m    289\u001b[0m         )\n\u001b[1;32m    290\u001b[0m \u001b[38;5;28;01mfor\u001b[39;00m props \u001b[38;5;129;01min\u001b[39;00m \u001b[38;5;28mself\u001b[39m\u001b[38;5;241m.\u001b[39mseasonalities\u001b[38;5;241m.\u001b[39mvalues():\n\u001b[1;32m    291\u001b[0m     condition_name \u001b[38;5;241m=\u001b[39m props[\u001b[38;5;124m'\u001b[39m\u001b[38;5;124mcondition_name\u001b[39m\u001b[38;5;124m'\u001b[39m]\n",
      "\u001b[0;31mValueError\u001b[0m: Found NaN in column 'temperature'"
     ]
    }
   ],
   "source": [
    "# Fit the Prophet model\n",
    "model = Prophet()\n",
    "model.add_country_holidays(country_name='US')\n",
    "model.add_regressor(\"is_holiday\")\n",
    "model.add_regressor(\"temperature\")\n",
    "model.add_regressor(\"conditions\")\n",
    "\n",
    "# Round timestamps to nearest hour\n",
    "train_renamed['ds'] = train_renamed['ds'].dt.round('H')\n",
    "weatherdf['timestamp'] = weatherdf['timestamp'].dt.round('H')\n",
    "\n",
    "# Merge weather information into train_renamed dataframe\n",
    "train_renamed = pd.merge(train_renamed, weatherdf[['timestamp', 'TemperatureC', 'Conditions']], left_on='ds', right_on='timestamp', how='left').drop(columns=['timestamp'])\n",
    "\n",
    "# Fill missing values in the 'temperature' column of train_renamed\n",
    "train_renamed['temperature'].fillna(method='ffill', inplace=True)\n",
    "\n",
    "# Fit the model\n",
    "model.fit(train_renamed)\n",
    "\n",
    "\n",
    "\n"
   ]
  },
  {
   "cell_type": "code",
   "execution_count": null,
   "id": "8227316e",
   "metadata": {},
   "outputs": [],
   "source": [
    "train_renamed.info()"
   ]
  },
  {
   "cell_type": "code",
   "execution_count": null,
   "id": "fc061fe9",
   "metadata": {},
   "outputs": [],
   "source": [
    "weatherdf.info()"
   ]
  },
  {
   "cell_type": "code",
   "execution_count": null,
   "id": "a5491758",
   "metadata": {},
   "outputs": [],
   "source": [
    "weatherdf.head()"
   ]
  },
  {
   "cell_type": "code",
   "execution_count": null,
   "id": "bfc9decb",
   "metadata": {},
   "outputs": [],
   "source": []
  }
 ],
 "metadata": {
  "kernelspec": {
   "display_name": "Python 3 (ipykernel)",
   "language": "python",
   "name": "python3"
  },
  "language_info": {
   "codemirror_mode": {
    "name": "ipython",
    "version": 3
   },
   "file_extension": ".py",
   "mimetype": "text/x-python",
   "name": "python",
   "nbconvert_exporter": "python",
   "pygments_lexer": "ipython3",
   "version": "3.11.0"
  }
 },
 "nbformat": 4,
 "nbformat_minor": 5
}
